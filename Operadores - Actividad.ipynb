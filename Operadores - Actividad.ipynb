{
 "cells": [
  {
   "cell_type": "markdown",
   "metadata": {},
   "source": [
    "## Operadores - Actividad"
   ]
  },
  {
   "cell_type": "markdown",
   "metadata": {},
   "source": [
    "1) Pedir al usuario dos números y mostrar por pantalla la suma de ellos."
   ]
  },
  {
   "cell_type": "code",
   "execution_count": 1,
   "metadata": {},
   "outputs": [
    {
     "name": "stdout",
     "output_type": "stream",
     "text": [
      "La suma de los dos numeros es:  101.0\n"
     ]
    }
   ],
   "source": [
    "num1 = float(input(\"Ingrese 1° numero: \"))\n",
    "num2 = float(input(\"Ingrese 2° numero: \"))\n",
    "resultado = num1 + num2\n",
    "print(\"La suma de los dos numeros es: \", resultado)"
   ]
  },
  {
   "cell_type": "markdown",
   "metadata": {},
   "source": [
    "2) Calcular el perímetro y área de un rectángulo dada su base y su altura (el usuario debe introducir por teclado los dos valores)."
   ]
  },
  {
   "cell_type": "code",
   "execution_count": 2,
   "metadata": {},
   "outputs": [
    {
     "name": "stdout",
     "output_type": "stream",
     "text": [
      "el perimetro es:  550.0\n"
     ]
    }
   ],
   "source": [
    "base = float(input(\"Ingrese la base: \"))\n",
    "altura = float(input(\"Ingrese la altura: \"))\n",
    "resultado = base * altura\n",
    "print(\"el perimetro es: \", resultado)"
   ]
  },
  {
   "cell_type": "markdown",
   "metadata": {},
   "source": [
    "3) Calcular el resultado de elevar un número entero a otro número entero (por ejemplo, 5 elevado a 3 = 5^3 = 5*5*5)."
   ]
  },
  {
   "cell_type": "code",
   "execution_count": 3,
   "metadata": {},
   "outputs": [
    {
     "name": "stdout",
     "output_type": "stream",
     "text": [
      "El resultado es:  64.0\n"
     ]
    }
   ],
   "source": [
    "num1 = float(input(\"Ingrese la base: \"))\n",
    "num2 = float(input(\"Ingrese el exponente: \"))\n",
    "resultado = num1 ** num2\n",
    "print(\"El resultado es: \", resultado)"
   ]
  },
  {
   "cell_type": "markdown",
   "metadata": {},
   "source": [
    "4) Escribe un programa que convierta grados Celsius a grados Fahrenheit utilizando la fórmula: **F = (C * 9/5) + 32**"
   ]
  },
  {
   "cell_type": "code",
   "execution_count": 4,
   "metadata": {},
   "outputs": [
    {
     "name": "stdout",
     "output_type": "stream",
     "text": [
      "los Grados en fahrenheit son:  93.2\n"
     ]
    }
   ],
   "source": [
    "celsius = float(input(\"Ingrese la temperatura en °C: \"))\n",
    "fahrenheit = (celsius * 9/5) + 32\n",
    "print(\"los Grados en fahrenheit son: \", fahrenheit)"
   ]
  },
  {
   "cell_type": "markdown",
   "metadata": {},
   "source": [
    "5) Pedir al usuario su edad y mostrar por pantalla si es mayor de edad o no. (Mayor de edad >= 18)"
   ]
  },
  {
   "cell_type": "code",
   "execution_count": 5,
   "metadata": {},
   "outputs": [
    {
     "name": "stdout",
     "output_type": "stream",
     "text": [
      "No es mayor de edad\n"
     ]
    }
   ],
   "source": [
    "edad = int(input(\"Ingrese su edad: \"))\n",
    "if edad>=18 :\n",
    "    print(\"Es mayor de edad\")\n",
    "else:\n",
    "    print(\"No es mayor de edad\")"
   ]
  },
  {
   "cell_type": "markdown",
   "metadata": {},
   "source": [
    "6) Comprobar si el numero ingresado por el usuario es par o impar."
   ]
  },
  {
   "cell_type": "code",
   "execution_count": 7,
   "metadata": {},
   "outputs": [
    {
     "name": "stdout",
     "output_type": "stream",
     "text": [
      "El numero es par\n"
     ]
    }
   ],
   "source": [
    "num = int(input(\"Ingrese un numero: \"))\n",
    "if num%2 == 0:    \n",
    "    print(\"El numero es par\")\n",
    "else: \n",
    "    print(\"El numero es impar\")"
   ]
  },
  {
   "cell_type": "markdown",
   "metadata": {},
   "source": [
    "7) Pedir al usuario que ingrese su dirección email y luego mostrar un mensaje indicando si la dirección es válida o no. Una dirección se considerará válida si contiene el símbolo \"@\"."
   ]
  },
  {
   "cell_type": "code",
   "execution_count": 9,
   "metadata": {},
   "outputs": [
    {
     "name": "stdout",
     "output_type": "stream",
     "text": [
      "el correo es invalido\n"
     ]
    }
   ],
   "source": [
    "email= input(\"Ingrese su correo electronico: \")\n",
    "if \"@\" in email:\n",
    "    print(\"el correo es valido \")\n",
    "else:\n",
    "    print(\"el correo es invalido\")"
   ]
  },
  {
   "cell_type": "markdown",
   "metadata": {},
   "source": [
    "8) Dado un número de dos cifras, diseñe un algoritmo que permita obtener el número invertido. Ejemplo, si se introduce 23 que muestre 32. (Recordar que las cadenas pueden tratarse como listas de caracteres)."
   ]
  },
  {
   "cell_type": "code",
   "execution_count": 15,
   "metadata": {},
   "outputs": [
    {
     "name": "stdout",
     "output_type": "stream",
     "text": [
      "95\n"
     ]
    }
   ],
   "source": [
    "numero= int(input(\"Ingrese un numero: \"))\n",
    "decena = int(numero/10)\n",
    "unidad= numero%10\n",
    "print((unidad*10)+decena)"
   ]
  },
  {
   "cell_type": "markdown",
   "metadata": {},
   "source": [
    "9) Crea un programa que pida al usuario dos números y muestre True si ambos son mayores que 10."
   ]
  },
  {
   "cell_type": "code",
   "execution_count": 17,
   "metadata": {},
   "outputs": [
    {
     "data": {
      "text/plain": [
       "True"
      ]
     },
     "execution_count": 17,
     "metadata": {},
     "output_type": "execute_result"
    }
   ],
   "source": [
    "num1 = float(input(\"Ingrese el primer numero: \"))\n",
    "num2 = float(input(\"Ingrese el segundo numero: \"))\n",
    "num1 > 10 and num2 > 10"
   ]
  },
  {
   "cell_type": "markdown",
   "metadata": {},
   "source": [
    "10) Escribe un programa que verifique si un número ingresado por el usuario es divisible por 3 y por 5."
   ]
  },
  {
   "cell_type": "code",
   "execution_count": 22,
   "metadata": {},
   "outputs": [
    {
     "name": "stdout",
     "output_type": "stream",
     "text": [
      "el numero no cumple la consigna\n"
     ]
    }
   ],
   "source": [
    "num = int(input(\"Ingrese un numero divisible por 3 y 5: \"))\n",
    "\n",
    "if num%3 == 0 and num%5== 0 :\n",
    "    print(\"el numero es divisible por 3 y 5\")\n",
    "else:\n",
    "    print(\"el numero no cumple la consigna\")"
   ]
  },
  {
   "cell_type": "markdown",
   "metadata": {},
   "source": [
    "11) Utilizando la información del punto 5, preguntar al usuario si posee carnet de conducir, luego verificar si puede conducir un automóvil."
   ]
  },
  {
   "cell_type": "code",
   "execution_count": 28,
   "metadata": {},
   "outputs": [
    {
     "name": "stdout",
     "output_type": "stream",
     "text": [
      "Puede conducir\n"
     ]
    }
   ],
   "source": [
    "edad = int(input(\"Ingrese su edad: \"))\n",
    "carnet = input(\"¿Posee carnet de conducir?\")\n",
    "if (edad>=18) and (carnet == \"SI\" or carnet ==\"si\"):\n",
    "    print(\"Puede conducir\")\n",
    "else: \n",
    "    print(\"No puede conducir\")  \n",
    "    "
   ]
  },
  {
   "cell_type": "markdown",
   "metadata": {},
   "source": [
    "12) Pide al usuario un número y verifica si es positivo y no es mayor que 100."
   ]
  },
  {
   "cell_type": "code",
   "execution_count": 32,
   "metadata": {},
   "outputs": [
    {
     "name": "stdout",
     "output_type": "stream",
     "text": [
      "el numero es positivo menor que 100\n"
     ]
    }
   ],
   "source": [
    "num = float(input(\"Ingrese el numero: \"))\n",
    "if num >= 0 and  num <= 100:\n",
    "    print(\"el numero es positivo menor que 100\")\n",
    "else :\n",
    "    print(\"el numero es negativo o mayor que 100\")\n"
   ]
  },
  {
   "cell_type": "markdown",
   "metadata": {},
   "source": [
    "13) Crear un programa que valide si un número ingresado por el usuario es par y mayor que 20."
   ]
  },
  {
   "cell_type": "code",
   "execution_count": 34,
   "metadata": {},
   "outputs": [
    {
     "name": "stdout",
     "output_type": "stream",
     "text": [
      "el numero es par mayor que 20\n"
     ]
    }
   ],
   "source": [
    "num = float(input(\"Ingrese el  numero: \"))\n",
    "if num % 2 == 0 and  num > 20:\n",
    "    print(\"el numero es par mayor que 20\")\n",
    "else :\n",
    "    print(\"el numero es impar o menor que 20\")"
   ]
  },
  {
   "cell_type": "markdown",
   "metadata": {},
   "source": [
    "14) Dada la variable **numero = 5**, realizar la operación necesaria para que número sea igual a 8. Luego imprimir en pantalla el nuevo valor de número y realizar una nueva operación para que el valor de número sea igual a 4 y mostrar en pantalla el nuevo valor."
   ]
  },
  {
   "cell_type": "code",
   "execution_count": 35,
   "metadata": {},
   "outputs": [
    {
     "name": "stdout",
     "output_type": "stream",
     "text": [
      "8\n",
      "4\n"
     ]
    }
   ],
   "source": [
    "numero = 5\n",
    "numero += 3\n",
    "print(numero)\n",
    "numero -= 4\n",
    "print(numero)\n"
   ]
  },
  {
   "cell_type": "markdown",
   "metadata": {},
   "source": [
    "15) Dadas las variables altura = \"10\" y base = 5, calcular el área de un triángulo y mostrar el resultado en pantalla. ¿Por qué el resultado es un error? ¿Cómo lo corregirías?"
   ]
  },
  {
   "cell_type": "code",
   "execution_count": 38,
   "metadata": {},
   "outputs": [
    {
     "name": "stdout",
     "output_type": "stream",
     "text": [
      "25.0\n"
     ]
    }
   ],
   "source": [
    "altura = \"10\"\n",
    "base = \"5\"\n",
    "area = (altura*base)/2\n",
    "print (area)\n",
    "#no se puede porque las variables son de tipo str, pra que funcione las variables deben convertirse a float o int"
   ]
  },
  {
   "cell_type": "markdown",
   "metadata": {},
   "source": [
    "16) Crea un programa que calcule el promedio de tres calificaciones ingresadas por el usuario, y comprobar si el alumno aprobó o no (aprueba con nota mayor a 6)."
   ]
  },
  {
   "cell_type": "code",
   "execution_count": 40,
   "metadata": {},
   "outputs": [
    {
     "name": "stdout",
     "output_type": "stream",
     "text": [
      " el alumno aprobo\n"
     ]
    }
   ],
   "source": [
    "num1 =float(input(\"Ingrese la primera calificacion: \"))\n",
    "num2 =float(input(\"ingrese  la segunda calificacion:\"))\n",
    "num3 =float(input(\"ingrese la tercera calificacion:\"))\n",
    "if (num1 + num2 + num3)/ 3 > 6:\n",
    "    print(\" el alumno aprobo\")\n",
    "else:\n",
    "    print(\"el alumno reprobo\")"
   ]
  },
  {
   "cell_type": "markdown",
   "metadata": {},
   "source": [
    "17) Pide al usuario su edad y calcula cuántos días, horas y minutos ha vivido aproximadamente (asumiendo 365 días por año)."
   ]
  },
  {
   "cell_type": "code",
   "execution_count": 42,
   "metadata": {},
   "outputs": [
    {
     "name": "stdout",
     "output_type": "stream",
     "text": [
      "Ha vivido aproximadamente:\n",
      "13870 días\n",
      "332880 horas\n",
      "19972800  minutos\n"
     ]
    }
   ],
   "source": [
    "edad = int(input(\"Ingrese su edad: \"))\n",
    "anios = edad\n",
    "dias = anios * 365\n",
    "horas = dias * 24\n",
    "minutos = horas * 60\n",
    "print(\"Ha vivido aproximadamente:\")\n",
    "print(dias, \"días\")\n",
    "print(horas ,\"horas\")\n",
    "print(minutos ,\" minutos\")"
   ]
  },
  {
   "cell_type": "markdown",
   "metadata": {},
   "source": [
    "18) Crea un programa que verifique si un número ingresado por el usuario es múltiplo de 4 y de 6 al mismo tiempo."
   ]
  },
  {
   "cell_type": "code",
   "execution_count": 44,
   "metadata": {},
   "outputs": [
    {
     "name": "stdout",
     "output_type": "stream",
     "text": [
      "el numero no es multiplo de 6 y de 4\n"
     ]
    }
   ],
   "source": [
    "num= float(input(\"ingrese un numero: \"))\n",
    "if num % 4 ==0 and num % 6 == 0:\n",
    "    print(\" el numero es multiplo de 4 y 6 \")\n",
    "else:\n",
    "    print(\"el numero no es multiplo de 6 y de 4\")"
   ]
  },
  {
   "cell_type": "markdown",
   "metadata": {},
   "source": [
    "19) "
   ]
  }
 ],
 "metadata": {
  "kernelspec": {
   "display_name": "Python 3",
   "language": "python",
   "name": "python3"
  },
  "language_info": {
   "codemirror_mode": {
    "name": "ipython",
    "version": 3
   },
   "file_extension": ".py",
   "mimetype": "text/x-python",
   "name": "python",
   "nbconvert_exporter": "python",
   "pygments_lexer": "ipython3",
   "version": "3.12.2"
  }
 },
 "nbformat": 4,
 "nbformat_minor": 2
}
