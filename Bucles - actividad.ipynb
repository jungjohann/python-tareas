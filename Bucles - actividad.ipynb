{
 "cells": [
  {
   "cell_type": "markdown",
   "metadata": {},
   "source": [
    "## Bucles - Actividad\n",
    "*Los ejercicios propuestos a continuación presentan autocorrección. En cada uno habrá dos bloques, uno para resolver el ejercicio y otro para testear tu solución.*\n",
    "Ejemplo:"
   ]
  },
  {
   "cell_type": "code",
   "execution_count": 1,
   "metadata": {},
   "outputs": [],
   "source": [
    "def ejemplo():\n",
    "    return \"ejemplo\""
   ]
  },
  {
   "cell_type": "code",
   "execution_count": 2,
   "metadata": {},
   "outputs": [
    {
     "name": "stdout",
     "output_type": "stream",
     "text": [
      "\u001b[92mMuy bien!\n"
     ]
    }
   ],
   "source": [
    "# TEST EJEMPLO\n",
    "\n",
    "try:\n",
    "    assert ejemplo() == \"ejemplo\", \"ejemplo() debería retornar 'ejemplo'\"\n",
    "    print('\\033[92m' + 'Muy bien!')\n",
    "except AssertionError as e:\n",
    "    print('\\033[91m' + str(e))"
   ]
  },
  {
   "cell_type": "markdown",
   "metadata": {},
   "source": [
    "1. Escribir un programa que calcule la suma de los primeros n números naturales y retorne el resultado"
   ]
  },
  {
   "cell_type": "code",
   "execution_count": 6,
   "metadata": {},
   "outputs": [],
   "source": [
    "def ejercicio_1(n):\n",
    "    suma = 0\n",
    "    for num in range(1,n + 1):\n",
    "        suma = suma + num\n",
    "    return suma"
   ]
  },
  {
   "cell_type": "code",
   "execution_count": 7,
   "metadata": {},
   "outputs": [
    {
     "name": "stdout",
     "output_type": "stream",
     "text": [
      "\u001b[92m✓ Ejercicio correcto!\n"
     ]
    }
   ],
   "source": [
    "# TEST EJERCICIO 1\n",
    "\n",
    "try:\n",
    "    assert ejercicio_1(10) == 55\n",
    "    assert ejercicio_1(5) == 15\n",
    "    print('\\033[92m' + '✓ Ejercicio correcto!')\n",
    "except AssertionError as e:\n",
    "    print('\\033[91m' + \"x Ejercicio incorrecto\")"
   ]
  },
  {
   "cell_type": "markdown",
   "metadata": {},
   "source": [
    "2. Escribe un programa que cuente cuántos números pares hay en un rango del 1 al n, **incluyendo n**.\n",
    "Debe retornar el número de números pares encontrados."
   ]
  },
  {
   "cell_type": "code",
   "execution_count": 8,
   "metadata": {},
   "outputs": [],
   "source": [
    "def ejercicio_2(n):\n",
    "    pares = 0\n",
    "    for num in range (1, n + 1):\n",
    "        if num % 2 == 0:\n",
    "            pares +=1\n",
    "    return pares"
   ]
  },
  {
   "cell_type": "code",
   "execution_count": 9,
   "metadata": {},
   "outputs": [
    {
     "name": "stdout",
     "output_type": "stream",
     "text": [
      "\u001b[92m✓ Ejercicio correcto!\n"
     ]
    }
   ],
   "source": [
    "# TEST EJERCICIO 2\n",
    "try:\n",
    "    assert ejercicio_2(10) == 5  # 2, 4, 6, 8, 10 son pares\n",
    "    assert ejercicio_2(15) == 7  # 2, 4, 6, 8, 10, 12, 14 son pares\n",
    "    print('\\033[92m' + '✓ Ejercicio correcto!')\n",
    "except AssertionError as e:\n",
    "    print('\\033[91m' + \"x Ejercicio incorrecto\")"
   ]
  },
  {
   "cell_type": "markdown",
   "metadata": {},
   "source": [
    "3. Escribe un programa que reciba una cadena de texto y cuente cuántas vocales contiene.\n",
    "Debe retornar el número total de vocales. Las vocales pueden ser mayúsculas o minúsculas."
   ]
  },
  {
   "cell_type": "code",
   "execution_count": 12,
   "metadata": {},
   "outputs": [],
   "source": [
    "def ejercicio_3(texto):\n",
    "    texto = texto.lower()\n",
    "    vocales = 0\n",
    "    for letra in texto:\n",
    "        if letra == 'a' or letra == 'e' or letra == 'i' or letra == 'o' or letra == 'u':\n",
    "            vocales +=1\n",
    "    return vocales"
   ]
  },
  {
   "cell_type": "code",
   "execution_count": 13,
   "metadata": {},
   "outputs": [
    {
     "name": "stdout",
     "output_type": "stream",
     "text": [
      "\u001b[92m✓ Ejercicio correcto!\n"
     ]
    }
   ],
   "source": [
    "# TEST EJERCICIO 3\n",
    "try:\n",
    "    assert ejercicio_3(\"Hola, mundo\") == 4\n",
    "    assert ejercicio_3(\"AEIOUaeiou\") == 10\n",
    "    print('\\033[92m' + '✓ Ejercicio correcto!')\n",
    "except AssertionError as e:\n",
    "    print('\\033[91m' + \"x Ejercicio incorrecto\")"
   ]
  },
  {
   "cell_type": "markdown",
   "metadata": {},
   "source": [
    "4. Escribe un programa que encuentre el número más grande en una lista de números.\n",
    "Debe retornar el `'El numero mas grande es {numero}'`"
   ]
  },
  {
   "cell_type": "code",
   "execution_count": 16,
   "metadata": {},
   "outputs": [],
   "source": [
    "def ejercicio_4(lista_numeros):\n",
    "    mas_grande = 0\n",
    "    for num in lista_numeros:\n",
    "        if num > mas_grande:\n",
    "            mas_grande = num\n",
    "    return f\"El numero mas grande es {mas_grande}\""
   ]
  },
  {
   "cell_type": "code",
   "execution_count": 17,
   "metadata": {},
   "outputs": [
    {
     "name": "stdout",
     "output_type": "stream",
     "text": [
      "\u001b[92m✓ Ejercicio correcto!\n"
     ]
    }
   ],
   "source": [
    "# TEST EJERCICIO 4\n",
    "\n",
    "try:\n",
    "    assert ejercicio_4([3, 8, 1, 7, 12]) == 'El numero mas grande es 12'\n",
    "    assert ejercicio_4([17, 22, 4, 9, 5, 25, 10]) == 'El numero mas grande es 25'\n",
    "    print('\\033[92m' + '✓ Ejercicio correcto!')\n",
    "except AssertionError as e:\n",
    "    print('\\033[91m' + \"x Ejercicio incorrecto\")"
   ]
  },
  {
   "cell_type": "markdown",
   "metadata": {},
   "source": [
    "5. Encontrar los números primos en un rango del 1 al n, **incluyendo n**.\n",
    "Debe retornar una lista con los números primos encontrados."
   ]
  },
  {
   "cell_type": "code",
   "execution_count": 51,
   "metadata": {},
   "outputs": [],
   "source": [
    "def ejercicio_5(n):\n",
    "    primos = []\n",
    "    for num in range(2, n + 1):\n",
    "        if es_primo(num):\n",
    "            primos.append(num)\n",
    "    return primos\n",
    "\n",
    "\n",
    "def es_primo(num):\n",
    "    if num <= 1:\n",
    "        return False\n",
    "    for i in range (2, int (num **0.5) + 1):\n",
    "        if num % i == 0:\n",
    "            return False\n",
    "    return True"
   ]
  },
  {
   "cell_type": "code",
   "execution_count": 52,
   "metadata": {},
   "outputs": [
    {
     "name": "stdout",
     "output_type": "stream",
     "text": [
      "\u001b[92m✓ Ejercicio correcto!\n"
     ]
    }
   ],
   "source": [
    "# TEST EJERCICIO 5\n",
    "\n",
    "try:\n",
    "    assert ejercicio_5(10) == [2, 3, 5, 7]\n",
    "    assert ejercicio_5(20) == [2, 3, 5, 7, 11, 13, 17, 19]\n",
    "    print('\\033[92m' + '✓ Ejercicio correcto!')\n",
    "except AssertionError as e:\n",
    "    print('\\033[91m' + \"x Ejercicio incorrecto\")"
   ]
  },
  {
   "cell_type": "markdown",
   "metadata": {},
   "source": [
    "6. Un __palíndromo__ es una palabra, número o frase que se lee igual hacia adelante que hacia atrás. Crear una funcion que reciba una cadena de texto y devuelva si dicha cadena es un palíndromo o no. *Devolver True si es un palíndromo y False si no lo es*"
   ]
  },
  {
   "cell_type": "code",
   "execution_count": 40,
   "metadata": {},
   "outputs": [],
   "source": [
    "def ejercicio_6(palabra):\n",
    "    return palabra == palabra[::-1]"
   ]
  },
  {
   "cell_type": "code",
   "execution_count": 41,
   "metadata": {},
   "outputs": [
    {
     "name": "stdout",
     "output_type": "stream",
     "text": [
      "\u001b[92m✓ Ejercicio correcto!\n"
     ]
    }
   ],
   "source": [
    "# TEST EJERCICIO 6\n",
    "\n",
    "try:\n",
    "    assert ejercicio_6(\"sometemos\") == True\n",
    "    assert ejercicio_6(\"arenera\") == True\n",
    "    assert ejercicio_6(\"holamundo\") == False\n",
    "    assert ejercicio_6(\"python\") == False\n",
    "    assert ejercicio_6(\"reconocer\") == True\n",
    "    print('\\033[92m' + '✓ Ejercicio correcto!')\n",
    "except AssertionError as e:\n",
    "    print('\\033[91m' + \"x Ejercicio incorrecto\")\n",
    "    "
   ]
  },
  {
   "cell_type": "markdown",
   "metadata": {},
   "source": [
    "7. Dada una lista de nombres, crear una funcion que devuelva una lista con los nombres que empiezan con la letra recibida como parámetro."
   ]
  },
  {
   "cell_type": "code",
   "execution_count": 47,
   "metadata": {},
   "outputs": [],
   "source": [
    "def ejercicio_7(letra, lista_nombres):\n",
    "    lista = []\n",
    "    for nombre in lista_nombres:\n",
    "        if nombre[0].lower() == letra.lower():\n",
    "            lista.append(nombre)\n",
    "    return lista"
   ]
  },
  {
   "cell_type": "code",
   "execution_count": 48,
   "metadata": {},
   "outputs": [
    {
     "name": "stdout",
     "output_type": "stream",
     "text": [
      "\u001b[92m✓ Ejercicio correcto!\n"
     ]
    }
   ],
   "source": [
    "# TEST EJERCICIO 7\n",
    "\n",
    "try:\n",
    "    assert ejercicio_7(\"A\", [\"Ana\", \"Juan\", \"Pedro\", \"Amanda\", \"Pablo\", \"Alfredo\"]) == [\"Ana\", \"Amanda\", \"Alfredo\"]\n",
    "    assert ejercicio_7(\"J\", [\"Ana\", \"Juan\", \"Pedro\", \"Amanda\", \"Pablo\", \"Alfredo\"]) == [\"Juan\"]\n",
    "    assert ejercicio_7(\"P\", [\"Ana\", \"Juan\", \"Pedro\", \"Amanda\", \"Pablo\", \"Alfredo\"]) == [\"Pedro\", \"Pablo\"]\n",
    "    assert ejercicio_7(\"Z\", [\"Ana\", \"Juan\", \"Pedro\", \"Amanda\", \"Pablo\", \"Alfredo\"]) == []\n",
    "    print('\\033[92m' + '✓ Ejercicio correcto!')\n",
    "except AssertionError as e:\n",
    "    print('\\033[91m' + \"x Ejercicio incorrecto\")"
   ]
  },
  {
   "cell_type": "markdown",
   "metadata": {},
   "source": [
    "8. Crear una funcion que recibe un laberinto en forma de matriz y debe devolver la posicion de la salida del laberinto.\n",
    "\n",
    "*El laberinto es una matriz donde \"#\" representa una pared, un espacio \" \" representa un pasillo y \"S\" representa la salida*\n",
    "\n",
    "*Ejemplo:*\n",
    "\n",
    "```python\n",
    "laberinto = [[\"#\",\"#\",\"#\",\"#\",\"#\",\"#\"],\n",
    "             [\"#\",\" \",\" \",\" \",\"#\",\"#\"],\n",
    "             [\"#\",\" \",\"#\",\" \",\" \",\"#\"],\n",
    "             [\"#\",\" \",\"#\",\"#\",\" \",\"#\"],\n",
    "             [\"#\",\" \",\" \",\"#\",\" \",\"#\"],\n",
    "             [\"#\",\"#\",\"#\",\"#\",\"S\",\"#\"]]\n",
    "```\n",
    "La funcion debe recorrer elemento por elemento hasta encontrar la S y devolver la posicion de la S en forma de tupla (fila, columna).\n",
    "*Recomendación: utilizar un bucle for anidado (un for dentro de otro for) donde el primero recorra las filas y el segundo las columnas.*"
   ]
  },
  {
   "cell_type": "code",
   "execution_count": 49,
   "metadata": {},
   "outputs": [],
   "source": [
    "def ejercicio_8(laberinto):\n",
    "    for i in range(len(laberinto)):\n",
    "        for j in range(len(laberinto[i])):\n",
    "            if laberinto[i][j]==\"S\":\n",
    "                return i,j"
   ]
  },
  {
   "cell_type": "code",
   "execution_count": 50,
   "metadata": {},
   "outputs": [
    {
     "name": "stdout",
     "output_type": "stream",
     "text": [
      "\u001b[92m✓ Ejercicio correcto!\n"
     ]
    }
   ],
   "source": [
    "# TEST EJERCICIO 8\n",
    "\n",
    "try:\n",
    "    assert ejercicio_8([\n",
    "        [\"#\", \"#\", \"#\", \"#\", \"#\", \"#\", \"#\", \"#\", \"#\", \"#\", \"#\", \"#\", \"#\", \"#\", \"#\", \"#\"],\n",
    "        [\"#\", \" \", \" \", \" \", \" \", \" \", \" \", \" \", \" \", \" \", \" \", \" \", \" \", \" \", \" \", \"#\"],\n",
    "        [\"#\", \" \", \"#\", \"#\", \"#\", \"#\", \"#\", \"#\", \"#\", \"#\", \" \", \"#\", \"#\", \"#\", \" \", \"#\"],\n",
    "        [\"#\", \" \", \"#\", \" \", \" \", \" \", \" \", \" \", \" \", \"#\", \" \", \"#\", \" \", \" \", \" \", \"#\"],\n",
    "        [\"#\", \" \", \"#\", \" \", \"#\", \"#\", \"#\", \"#\", \" \", \"#\", \" \", \"#\", \" \", \"#\", \"#\", \"#\"],\n",
    "        [\"#\", \" \", \"#\", \" \", \"#\", \" \", \" \", \" \", \" \", \"#\", \" \", \"#\", \" \", \" \", \" \", \"#\"],\n",
    "        [\"#\", \" \", \"#\", \" \", \"#\", \" \", \"#\", \"#\", \"#\", \"#\", \" \", \"#\", \"#\", \"#\", \" \", \"#\"],\n",
    "        [\"#\", \" \", \"#\", \" \", \"#\", \" \", \"#\", \" \", \" \", \" \", \" \", \" \", \" \", \" \", \" \", \"#\"],\n",
    "        [\"#\", \" \", \"#\", \" \", \"#\", \" \", \"#\", \" \", \"#\", \"#\", \"#\", \"#\", \"#\", \"#\", \"#\", \"#\"],\n",
    "        [\"#\", \" \", \"#\", \" \", \"#\", \" \", \"#\", \" \", \"#\", \" \", \" \", \" \", \" \", \" \", \" \", \"#\"],\n",
    "        [\"#\", \" \", \"#\", \" \", \"#\", \" \", \"#\", \" \", \"#\", \" \", \"#\", \"#\", \"#\", \"#\", \" \", \"#\"],\n",
    "        [\"#\", \" \", \"#\", \" \", \"#\", \" \", \"#\", \" \", \"#\", \" \", \" \", \" \", \" \", \"#\", \" \", \"#\"],\n",
    "        [\"#\", \" \", \"#\", \" \", \"#\", \" \", \"#\", \" \", \"#\", \"#\", \"#\", \"#\", \" \", \"#\", \" \", \"#\"],\n",
    "        [\"#\", \" \", \"#\", \" \", \"#\", \" \", \" \", \" \", \" \", \" \", \" \", \"#\", \" \", \"#\", \" \", \"#\"],\n",
    "        [\"#\", \" \", \"#\", \" \", \"#\", \"#\", \"#\", \"#\", \"#\", \"#\", \"#\", \"#\", \" \", \"#\", \" \", \"#\"],\n",
    "        [\"#\", \" \", \" \", \" \", \" \", \" \", \" \", \" \", \" \", \" \", \" \", \" \", \" \", \"#\", \" \", \"#\"],\n",
    "        [\"#\", \"#\", \"#\", \"#\", \"#\", \"#\", \"#\", \"#\", \"#\", \"#\", \"#\", \"#\", \"#\", \"#\", \"S\", \"#\"]\n",
    "    ]) == (16, 14)\n",
    "    print('\\033[92m' + '✓ Ejercicio correcto!')\n",
    "except AssertionError as e:\n",
    "    print('\\033[91m' + \"x Ejercicio incorrecto\")\n",
    "    "
   ]
  }
 ],
 "metadata": {
  "kernelspec": {
   "display_name": "Python 3",
   "language": "python",
   "name": "python3"
  },
  "language_info": {
   "codemirror_mode": {
    "name": "ipython",
    "version": 3
   },
   "file_extension": ".py",
   "mimetype": "text/x-python",
   "name": "python",
   "nbconvert_exporter": "python",
   "pygments_lexer": "ipython3",
   "version": "3.12.2"
  }
 },
 "nbformat": 4,
 "nbformat_minor": 2
}
